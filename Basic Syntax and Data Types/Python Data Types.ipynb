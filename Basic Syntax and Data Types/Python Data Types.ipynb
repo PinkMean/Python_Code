{
 "cells": [
  {
   "cell_type": "code",
   "execution_count": 262,
   "id": "40f8cb9a-5f1a-4623-9678-de6b33045688",
   "metadata": {},
   "outputs": [
    {
     "name": "stdout",
     "output_type": "stream",
     "text": [
      "<class 'int'>\n",
      "<class 'float'>\n",
      "<class 'complex'>\n",
      "<class 'str'>\n",
      "<class 'list'>\n",
      "<class 'dict'>\n",
      "<class 'set'>\n",
      "<class 'tuple'>\n",
      "<class 'bool'>\n",
      "<class 'NoneType'>\n"
     ]
    }
   ],
   "source": [
    "# Python Data Types \n",
    "\n",
    "# Data Types in Python\n",
    "# Data types are classifications that specify the type of value a variable holds.\n",
    "# This helps Python to know how to handle the data appropriately.\n",
    "\n",
    "# List of Data Types:\n",
    "# 1. Integer: Whole numbers, positive or negative, without decimals.\n",
    "print(type(4))  # Output: <class 'int'>\n",
    "\n",
    "# 2. Float: Numbers, positive or negative, containing one or more decimals.\n",
    "print(type(3.14))  # Output: <class 'float'>\n",
    "\n",
    "# 3. Complex Number: Numbers with a real and imaginary part, written with a \"j\" as the imaginary part.\n",
    "print(type(1 + 3j))  # Output: <class 'complex'>\n",
    "\n",
    "# 4. String: Sequences of characters, enclosed in single or double quotes.\n",
    "print(type('Pink'))  # Output: <class 'str'>\n",
    "\n",
    "# 5. List: Ordered collections of items, which can be of different types, enclosed in square brackets.\n",
    "print(type([1, 2, 3, 4]))  # Output: <class 'list'>\n",
    "\n",
    "# 6. Dictionary: Collections of key-value pairs, enclosed in curly brackets.\n",
    "print(type({'color':'Pink'}))  # Output: <class 'dict'>\n",
    "\n",
    "# 7. Set: Unordered collections of unique items, enclosed in curly brackets.\n",
    "print(type({'white', 'pink', 'blue'}))  # Output: <class 'set'>\n",
    "\n",
    "# 8. Tuple: Ordered collections of items, which can be of different types, enclosed in parentheses.\n",
    "print(type(('white', 'pink', 'blue')))  # Output: <class 'tuple'>\n",
    "\n",
    "# 9. Boolean: Represents one of two values: True or False.\n",
    "print(type(True))  # Output: <class 'bool'>\n",
    "\n",
    "# 10. NoneType: Represents the absence of a value or a null value.\n",
    "print(type(None))  # Output: <class 'NoneType'>\n",
    "\n",
    "\n"
   ]
  },
  {
   "cell_type": "code",
   "execution_count": 264,
   "id": "f944f7ee-f767-437f-a44d-8533b711927c",
   "metadata": {},
   "outputs": [],
   "source": [
    "# Numbers \n",
    "\n",
    "# Integer\n",
    "# Float\n",
    "# Complex Example "
   ]
  },
  {
   "cell_type": "code",
   "execution_count": 266,
   "id": "1c4aae4f-ba3f-49c4-bff0-b209c0f983d4",
   "metadata": {},
   "outputs": [
    {
     "data": {
      "text/plain": [
       "int"
      ]
     },
     "execution_count": 266,
     "metadata": {},
     "output_type": "execute_result"
    }
   ],
   "source": [
    "# Integer \n",
    "#  Int (Posivitive, Negative and Zero) -1, 0, 1, 2 # Int\n",
    "\n",
    "type(2+2)"
   ]
  },
  {
   "cell_type": "code",
   "execution_count": 268,
   "id": "2aab9554-523e-4bc8-8b34-cf18fc071143",
   "metadata": {},
   "outputs": [
    {
     "name": "stdout",
     "output_type": "stream",
     "text": [
      "<class 'int'>\n"
     ]
    }
   ],
   "source": [
    "print(type(4))  "
   ]
  },
  {
   "cell_type": "code",
   "execution_count": 270,
   "id": "e591a3e2-1aa4-45d8-8aaf-9f84610986f3",
   "metadata": {},
   "outputs": [
    {
     "name": "stdout",
     "output_type": "stream",
     "text": [
      "4 is of type <class 'int'>\n"
     ]
    }
   ],
   "source": [
    "integer_example = 4\n",
    "print(f'{integer_example} is of type {type(integer_example)}')"
   ]
  },
  {
   "cell_type": "code",
   "execution_count": 272,
   "id": "e92a74d5-a5cb-4abc-abcc-ef3fff6470fa",
   "metadata": {},
   "outputs": [
    {
     "data": {
      "text/plain": [
       "float"
      ]
     },
     "execution_count": 272,
     "metadata": {},
     "output_type": "execute_result"
    }
   ],
   "source": [
    "# Float \n",
    "# float (Decimal number) -1.0, 1.1 # Float\n",
    "\n",
    "type(1+2.2)"
   ]
  },
  {
   "cell_type": "code",
   "execution_count": 274,
   "id": "6b1bbbf6-4d65-41a0-9350-98725794efa9",
   "metadata": {},
   "outputs": [
    {
     "name": "stdout",
     "output_type": "stream",
     "text": [
      "<class 'float'>\n"
     ]
    }
   ],
   "source": [
    "print(type(3.14))"
   ]
  },
  {
   "cell_type": "code",
   "execution_count": 276,
   "id": "2090a983-c990-428a-a2fb-b4b134fc7352",
   "metadata": {
    "scrolled": true
   },
   "outputs": [
    {
     "data": {
      "text/plain": [
       "complex"
      ]
     },
     "execution_count": 276,
     "metadata": {},
     "output_type": "execute_result"
    }
   ],
   "source": [
    "# Complex \n",
    "# Complex  1 + j, 1 + 4j \n",
    "\n",
    "type(2+ 2j)"
   ]
  },
  {
   "cell_type": "code",
   "execution_count": 278,
   "id": "31ea425d-84da-4671-997e-e356af826367",
   "metadata": {},
   "outputs": [
    {
     "name": "stdout",
     "output_type": "stream",
     "text": [
      "<class 'complex'>\n"
     ]
    }
   ],
   "source": [
    "print(type(1 + 3j))"
   ]
  },
  {
   "cell_type": "code",
   "execution_count": 280,
   "id": "a89bbe42-7c72-4f6c-b816-ff060c45c60e",
   "metadata": {},
   "outputs": [
    {
     "name": "stdout",
     "output_type": "stream",
     "text": [
      "Number of records: 1500 (Type: <class 'int'>)\n",
      "Average age: 29.5 (Type: <class 'float'>)\n",
      "Complex calculation result: (7+5j) (Type: <class 'complex'>)\n",
      "Dataset name: \"Customer Transactions\" (Type: <class 'str'>)\n",
      "Column names: ['CustomerID', 'Age', 'Income', 'PurchaseAmount'] (Type: <class 'list'>)\n",
      "Metadata: {'source': 'Company Database', 'created': '2023-06-01', 'num_columns': 4} (Type: <class 'dict'>)\n",
      "Unique categories: {'Clothing', 'Home Goods', 'Electronics'} (Type: <class 'set'>)\n",
      "Single record: (12345, 28, 55000, 200.5) (Type: <class 'tuple'>)\n",
      "Analysis complete: True (Type: <class 'bool'>)\n",
      "Missing value: None (Type: <class 'NoneType'>)\n"
     ]
    }
   ],
   "source": [
    "# Working with Different Data Types in Data Analysis\n",
    "\n",
    "# Integer: Used to count the number of records or entries in a dataset.\n",
    "# Often need to count the number of entries in your dataset, such as the number of customers.\n",
    "num_records = 1500\n",
    "print(f'Number of records: {num_records} (Type: {type(num_records)})')  # Output: Number of records: 1500 (Type: <class 'int'>)\n",
    "\n",
    "# Float: Used for values that include decimals, such as averages or ratios.\n",
    "# Calculating averages or other statistical measures often involves decimal values, like the average age of customers.\n",
    "average_age = 29.5\n",
    "print(f'Average age: {average_age} (Type: {type(average_age)})')  # Output: Average age: 29.5 (Type: <class 'float'>)\n",
    "\n",
    "# Complex Number: Used for advanced mathematical calculations (less common in everyday analysis).\n",
    "# While less common, complex numbers are used in specific scientific calculations.\n",
    "complex_result = 7 + 5j\n",
    "print(f'Complex calculation result: {complex_result} (Type: {type(complex_result)})')  # Output: Complex calculation result: (7+5j) (Type: <class 'complex'>)\n",
    "\n",
    "# String: Used for text data, such as names or labels.\n",
    "# Text data, such as dataset names or column labels, are typically stored as strings.\n",
    "dataset_name = 'Customer Transactions'\n",
    "print(f'Dataset name: \"{dataset_name}\" (Type: {type(dataset_name)})')  # Output: Dataset name: \"Customer Transactions\" (Type: <class 'str'>)\n",
    "\n",
    "# List: Stores an ordered collection of items, like column names or multiple values.\n",
    "# Lists are useful for storing ordered collections, like the names of columns in a dataset.\n",
    "column_names = ['CustomerID', 'Age', 'Income', 'PurchaseAmount']\n",
    "print(f'Column names: {column_names} (Type: {type(column_names)})')  # Output: Column names: ['CustomerID', 'Age', 'Income', 'PurchaseAmount'] (Type: <class 'list'>)\n",
    "\n",
    "# Dictionary: Stores key-value pairs, useful for metadata or structured information.\n",
    "# Dictionaries are great for storing structured data or metadata, such as dataset attributes.\n",
    "metadata = {'source': 'Company Database', 'created': '2023-06-01', 'num_columns': len(column_names)}\n",
    "print(f'Metadata: {metadata} (Type: {type(metadata)})')  # Output: Metadata: {'source': 'Company Database', 'created': '2023-06-01', 'num_columns': 4} (Type: <class 'dict'>)\n",
    "\n",
    "# Set: Stores unique items, useful for distinct values in a column.\n",
    "# Sets help in identifying unique values in a column, like different product categories.\n",
    "unique_categories = {'Electronics', 'Clothing', 'Home Goods'}\n",
    "print(f'Unique categories: {unique_categories} (Type: {type(unique_categories)})')  # Output: Unique categories: {'Home Goods', 'Clothing', 'Electronics'} (Type: <class 'set'>)\n",
    "\n",
    "# Tuple: Used for immutable collections of items, like a single row of data.\n",
    "# Tuples are useful for storing fixed collections of items, such as a single record in your dataset.\n",
    "single_record = (12345, 28, 55000, 200.50)\n",
    "print(f'Single record: {single_record} (Type: {type(single_record)})')  # Output: Single record: (12345, 28, 55000, 200.5) (Type: <class 'tuple'>)\n",
    "\n",
    "# Boolean: Used for true/false conditions, like flags or status checks.\n",
    "# Booleans are used for logical operations or status flags, such as checking if an analysis is complete.\n",
    "analysis_complete = True\n",
    "print(f'Analysis complete: {analysis_complete} (Type: {type(analysis_complete)})')  # Output: Analysis complete: True (Type: <class 'bool'>)\n",
    "\n",
    "# NoneType: Represents missing or undefined values, common in data cleaning.\n",
    "# NoneType is used to represent missing or null values, which is common when handling incomplete data.\n",
    "missing_value = None\n",
    "print(f'Missing value: {missing_value} (Type: {type(missing_value)})')  # Output: Missing value: None (Type: <class 'NoneType'>)\n"
   ]
  }
 ],
 "metadata": {
  "kernelspec": {
   "display_name": "Python 3 (ipykernel)",
   "language": "python",
   "name": "python3"
  },
  "language_info": {
   "codemirror_mode": {
    "name": "ipython",
    "version": 3
   },
   "file_extension": ".py",
   "mimetype": "text/x-python",
   "name": "python",
   "nbconvert_exporter": "python",
   "pygments_lexer": "ipython3",
   "version": "3.11.7"
  }
 },
 "nbformat": 4,
 "nbformat_minor": 5
}
