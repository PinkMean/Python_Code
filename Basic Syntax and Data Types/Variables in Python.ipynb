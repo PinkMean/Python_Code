{
 "cells": [
  {
   "cell_type": "code",
   "execution_count": 9,
   "id": "f6fa38a2-1ae0-41d8-9d91-1bae0ead29ec",
   "metadata": {},
   "outputs": [
    {
     "name": "stdout",
     "output_type": "stream",
     "text": [
      "28\n",
      "Mary is 28 years old\n",
      "28\n"
     ]
    }
   ],
   "source": [
    "# Variables are like labels or containers that store data values, making it easier to manage and manipulate data in your programs. \n",
    "# In Python, you don't need a special command to declare a variable. You create a variable simply by assigning a value to it.\n",
    "\n",
    "'''\n",
    "x: This is the variable name. It's a label that you can use to refer to the value it holds.\n",
    "=: This is the assignment operator. It assigns the value on its right (28) to the variable on its left (x).\n",
    "28: This is the value assigned to the variable x.\n",
    "'''\n",
    "\n",
    "# Assigning a value to a variable\n",
    "x = 28 \n",
    "print(x)  # Output: 28\n",
    "\n",
    "# Printing a sentence that includes the variable's value\n",
    "print(f\"Mary is {x} years old\")  # Using an f-string for formatted output\n",
    "\n",
    "# What is the value of x?\n",
    "\n",
    "print(x)  # Output: 28\n"
   ]
  },
  {
   "cell_type": "code",
   "execution_count": 10,
   "id": "7d25cbaa-da7a-4568-92fb-4b799ee7c3ab",
   "metadata": {},
   "outputs": [
    {
     "name": "stdout",
     "output_type": "stream",
     "text": [
      "25\n",
      "5.9\n",
      "Mary\n",
      "False\n"
     ]
    }
   ],
   "source": [
    "#Creating Variables - You create a variable by using the = operator to assign a value:\n",
    "\n",
    "age = 25\n",
    "height = 5.9\n",
    "name = \"Mary\"\n",
    "is_male = False\n",
    "\n",
    "#Printing Variables - You can display the value of a variable using the print() function:\n",
    "\n",
    "print(age)        # Output: 25\n",
    "print(height)     # Output: 5.9\n",
    "print(name)       # Output: Mary\n",
    "print(is_male)    # Output: False\n"
   ]
  },
  {
   "cell_type": "code",
   "execution_count": 11,
   "id": "f906644f-81a8-48e3-bec5-0c431c4e4db3",
   "metadata": {},
   "outputs": [
    {
     "name": "stdout",
     "output_type": "stream",
     "text": [
      "Camel Case Example: myVariableName\n",
      "Pascal Case Example: MyVariableName \n",
      "Snake Case Example: my_variable_name\n",
      "Underscore Prefix Example: _privateVar\n",
      "Upper Case with Underscores Example: MAX_VALUE\n"
     ]
    }
   ],
   "source": [
    "# Camel Case - Each word, except the first, starts with a capital letter.\n",
    "myVariableName = \"Camel Case Example: myVariableName\"\n",
    "print(myVariableName)  # Output: Camel Case Example\n",
    "\n",
    "# Pascal Case - Each word starts with a capital letter.\n",
    "MyVariableName = \"Pascal Case Example: MyVariableName \"\n",
    "print(MyVariableName)  # Output: Pascal Case Example\n",
    "\n",
    "# Snake Case - Words are separated by underscores.\n",
    "my_variable_name = \"Snake Case Example: my_variable_name\"\n",
    "print(my_variable_name)  # Output: Snake Case Example\n",
    "\n",
    "# Underscore Prefix - Variables with a leading underscore are typically used to indicate that they are intended for internal use or are private.\n",
    "_privateVar = \"Underscore Prefix Example: _privateVar\"\n",
    "print(_privateVar)  # Output: Underscore Prefix Example\n",
    "\n",
    "# Upper Case with Underscores - Usually used for constants, where all letters are capitalized and words are separated by underscores.\n",
    "MAX_VALUE = \"Upper Case with Underscores Example: MAX_VALUE\"\n",
    "print(MAX_VALUE)  # Output: Upper Case with Underscores Example\n"
   ]
  },
  {
   "cell_type": "code",
   "execution_count": 12,
   "id": "ead2e645-275c-4699-a5f5-1e4e4647fece",
   "metadata": {},
   "outputs": [
    {
     "name": "stdout",
     "output_type": "stream",
     "text": [
      "1\n",
      "2\n",
      "3\n"
     ]
    }
   ],
   "source": [
    "#Multiple Assignment You can assign values to multiple variables in one line\n",
    "\n",
    "x, y, z = 1, 2, 3\n",
    "print(x)  # Output: 1\n",
    "print(y)  # Output: 2\n",
    "print(z)  # Output: 3\n",
    "\n"
   ]
  },
  {
   "cell_type": "code",
   "execution_count": 13,
   "id": "2cd9d0db-0b77-4f2a-84ed-b1589f7aa23d",
   "metadata": {},
   "outputs": [
    {
     "name": "stdout",
     "output_type": "stream",
     "text": [
      "pink\n",
      "white\n",
      "orange\n"
     ]
    }
   ],
   "source": [
    "# Multiple Assignment (or Sequence Unpacking): A way to assign multiple variables at once from a list or other iterable.\n",
    "\n",
    "# List containing colors\n",
    "color = ['pink', 'white', 'orange']\n",
    "\n",
    "# Multiple assignment (sequence unpacking)\n",
    "x, y, z = color\n",
    "\n",
    "# Printing the values of x, y, and z\n",
    "print(x)  # Output: pink\n",
    "print(y)  # Output: white\n",
    "print(z)  # Output: orange\n",
    "\n"
   ]
  },
  {
   "cell_type": "code",
   "execution_count": 14,
   "id": "99261007-439d-4897-9a32-bd348fdf0045",
   "metadata": {},
   "outputs": [
    {
     "name": "stdout",
     "output_type": "stream",
     "text": [
      "10\n",
      "10\n",
      "10\n"
     ]
    }
   ],
   "source": [
    "#You can also assign the same value to multiple variables:\n",
    "a = b = c = 10\n",
    "print(a)  # Output: 10\n",
    "print(b)  # Output: 10\n",
    "print(c)  # Output: 10\n",
    "\n"
   ]
  },
  {
   "cell_type": "code",
   "execution_count": 15,
   "id": "59442666-46e7-479f-97bd-a99608c8a2e6",
   "metadata": {},
   "outputs": [
    {
     "name": "stdout",
     "output_type": "stream",
     "text": [
      "<class 'int'>\n",
      "<class 'float'>\n",
      "<class 'str'>\n",
      "<class 'bool'>\n"
     ]
    }
   ],
   "source": [
    "#Checking Variable Types - You can check the type of a variable using the type() function\n",
    "\n",
    "#DATA TYPES - Variables can hold different types of data. Here are some common types:\n",
    "\n",
    "#Integers - Whole numbers\n",
    "age = 28\n",
    "\n",
    "#Floats - Decimal numbers\n",
    "height = 5.6\n",
    "\n",
    "#Strings - Text\n",
    "name = \"Mary\"\n",
    "\n",
    "#Booleans: True or False values\n",
    "is_male = False\n",
    "\n",
    "\n",
    "print(type(age))       # Output: <class 'int'>\n",
    "print(type(height))    # Output: <class 'float'>\n",
    "print(type(name))      # Output: <class 'str'>\n",
    "print(type(is_male)) # Output: <class 'bool'>\n"
   ]
  },
  {
   "cell_type": "code",
   "execution_count": 16,
   "id": "cc3ffc81-f095-493f-ac5f-bac124ac88f8",
   "metadata": {},
   "outputs": [],
   "source": [
    "#Type Safety Python is dynamically typed, meaning you can change the type of a variable by assigning a value of a different type. \n",
    "#However, you cannot perform operations that combine incompatible types:\n",
    "\n",
    "age = 28\n",
    "name = \"Mary\"\n",
    "\n",
    "# This will raise a TypeError\n",
    "# print(age + name)\n"
   ]
  }
 ],
 "metadata": {
  "kernelspec": {
   "display_name": "Python 3 (ipykernel)",
   "language": "python",
   "name": "python3"
  },
  "language_info": {
   "codemirror_mode": {
    "name": "ipython",
    "version": 3
   },
   "file_extension": ".py",
   "mimetype": "text/x-python",
   "name": "python",
   "nbconvert_exporter": "python",
   "pygments_lexer": "ipython3",
   "version": "3.12.1"
  }
 },
 "nbformat": 4,
 "nbformat_minor": 5
}
